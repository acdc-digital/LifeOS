{
 "cells": [
  {
   "cell_type": "markdown",
   "id": "09983cf0",
   "metadata": {},
   "source": [
    "\"# LifeOS General Notes\n",
    "\",\n",
    "\n",
    "\"> **Project**: LifeOS - Agentic Social Media Audience Control Platform  \n",
    "\",  \n",
    "> **Created**: August 17, 2025  \n",
    "    \"> **Purpose**: General notes, ideas, and documentation for the LifeOS project\n",
    "\",\n",
    "\n",
    "---"
   ]
  },
  {
   "cell_type": "markdown",
   "id": "4137dacd",
   "metadata": {},
   "source": [
    "##### August 17, 2025\n",
    "\n",
    "so... so far, we've created the init. and we need to review if we've set evrything up correctly because I know we're missing stuff.\n",
    "\n",
    "To review.   \n",
    "    \"1. we've created a new Github repo with the app title 'LifeOS'\n",
    "\",\n",
    "2. we're using Trunk as our primary Linter\n",
    "3. We've created a Nextjs project with a Convex backend\n",
    "4. We've integrated React/ Typescript, and Tailwind CSS as support infrastructure\n",
    "5. we've generated a pnpm workspace\n",
    "6. we've created our .gitignore and READme.\n",
    "7. we've generated our .viscode/ .github/ and .claude instructions"
   ]
  },
  {
   "cell_type": "markdown",
   "id": "4239928a",
   "metadata": {},
   "source": [
    "##### August 18, 2025\n",
    "\n",
    "To review. \n",
    "\n",
    "Dashboard is setup, we've made some minor improvements to the UI, overall structure and initial implementation going well so far. Still making some modifications to the UI, I used to have this old tab style- react-tab-corners, npm library that added a cool effect to the tabs. Let me find it. \n",
    "\n"
   ]
  },
  {
   "cell_type": "markdown",
   "id": "faa3e149",
   "metadata": {},
   "source": []
  },
  {
   "cell_type": "markdown",
   "id": "0506d592",
   "metadata": {},
   "source": []
  },
  {
   "cell_type": "markdown",
   "id": "82f92a80",
   "metadata": {},
   "source": []
  }
 ],
 "metadata": {
  "language_info": {
   "name": "python"
  }
 },
 "nbformat": 4,
 "nbformat_minor": 5
}
